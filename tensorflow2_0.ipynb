{
  "nbformat": 4,
  "nbformat_minor": 0,
  "metadata": {
    "colab": {
      "name": "tensorflow2.0.ipynb",
      "provenance": [],
      "collapsed_sections": [],
      "authorship_tag": "ABX9TyPPD4rDwReQr7/iCPtGHb7c",
      "include_colab_link": true
    },
    "kernelspec": {
      "name": "python3",
      "display_name": "Python 3"
    },
    "language_info": {
      "name": "python"
    }
  },
  "cells": [
    {
      "cell_type": "markdown",
      "metadata": {
        "id": "view-in-github",
        "colab_type": "text"
      },
      "source": [
        "<a href=\"https://colab.research.google.com/github/LoganLxb/tensorflow2.0-learn/blob/main/tensorflow2_0.ipynb\" target=\"_parent\"><img src=\"https://colab.research.google.com/assets/colab-badge.svg\" alt=\"Open In Colab\"/></a>"
      ]
    },
    {
      "cell_type": "code",
      "metadata": {
        "colab": {
          "base_uri": "https://localhost:8080/"
        },
        "id": "sMmmxrEjyrUV",
        "outputId": "6413eed6-c223-42a1-f038-714a651a90c6"
      },
      "source": [
        "import tensorflow as tf\n",
        "\n",
        "\n",
        "x=tf.Variable(initial_value=3.)\n",
        "\n",
        "with tf.GradientTape() as tape:\n",
        "  y= tf.square(x,2)\n",
        "y_grad=tape.gradient(y,x)\n",
        "print(y,y_grad)"
      ],
      "execution_count": 8,
      "outputs": [
        {
          "output_type": "stream",
          "text": [
            "tf.Tensor(9.0, shape=(), dtype=float32) tf.Tensor(6.0, shape=(), dtype=float32)\n"
          ],
          "name": "stdout"
        }
      ]
    },
    {
      "cell_type": "code",
      "metadata": {
        "colab": {
          "base_uri": "https://localhost:8080/"
        },
        "id": "PQLNDMvh2LmY",
        "outputId": "b6775785-d1cc-4f37-b999-958580c22f09"
      },
      "source": [
        "X=tf.constant([[1.,2.],[3.,4.]])\n",
        "y=tf.constant([[1.],[2.]])\n",
        "\n",
        "w=tf.Variable([[1.],[2.]])\n",
        "b=tf.Variable(initial_value=1.)\n",
        "\n",
        "with tf.GradientTape() as tape1:\n",
        "  L = tf.reduce_sum(tf.square(tf.matmul(X, w) + b - y))\n",
        "w_grad,b_grad=tape1.gradient(L,[w,b])\n",
        "\n",
        "print(w_grad,b_grad)"
      ],
      "execution_count": 21,
      "outputs": [
        {
          "output_type": "stream",
          "text": [
            "tf.Tensor(\n",
            "[[ 70.]\n",
            " [100.]], shape=(2, 1), dtype=float32) tf.Tensor(30.0, shape=(), dtype=float32)\n"
          ],
          "name": "stdout"
        }
      ]
    },
    {
      "cell_type": "code",
      "metadata": {
        "colab": {
          "base_uri": "https://localhost:8080/"
        },
        "id": "aedfV8Q266bX",
        "outputId": "8c60d20a-4f8f-4cdd-955b-32493f4e5360"
      },
      "source": [
        "import numpy as np\n",
        "x_raw=np.array([2013,2014,2015,2016,2017],dtype=np.float32)\n",
        "y_raw=np.array([12000, 14000, 15000, 16500, 17500],dtype=np.float32)\\\n",
        "\n",
        "X=(x_raw-x_raw.min())/(x_raw.max()-x_raw.min())\n",
        "y=(y_raw-y_raw.min())/(y_raw.max()-y_raw.min())\n",
        "\n",
        "x=tf.constant(X)\n",
        "y=tf.constant(y)\n",
        "\n",
        "\n",
        "a=tf.Variable(initial_value=0.)\n",
        "b=tf.Variable(initial_value=0.)\n",
        "\n",
        "variable=[a,b]\n",
        "epoch=10000\n",
        "optimzer=tf.keras.optimizers.SGD(learning_rate=5e-4)\n",
        "for e in range(epoch):\n",
        "  with tf.GradientTape() as tape:\n",
        "    y_pred=a*x+b\n",
        "    loss=tf.reduce_sum(tf.square(y_pred-y))\n",
        "  grad=tape.gradient(loss,variable)\n",
        "  optimzer.apply_gradients(grads_and_vars=zip(grad, variable))\n",
        "\n",
        "print(a,b)"
      ],
      "execution_count": 35,
      "outputs": [
        {
          "output_type": "stream",
          "text": [
            "<tf.Variable 'Variable:0' shape=() dtype=float32, numpy=0.97637> <tf.Variable 'Variable:0' shape=() dtype=float32, numpy=0.057565063>\n"
          ],
          "name": "stdout"
        }
      ]
    },
    {
      "cell_type": "code",
      "metadata": {
        "colab": {
          "base_uri": "https://localhost:8080/"
        },
        "id": "fp5FPWIAKGRr",
        "outputId": "7d8a22a3-4c11-41ae-f25f-0f568b454cf1"
      },
      "source": [
        "X = tf.constant([[1.0, 2.0, 3.0], [4.0, 5.0, 6.0]])\n",
        "y = tf.constant([[10.0], [20.0]])\n",
        "\n",
        "\n",
        "class Linear(tf.keras.Model):\n",
        "    def __init__(self):\n",
        "        super().__init__()\n",
        "        self.dense = tf.keras.layers.Dense(\n",
        "            units=1,#层数为1\n",
        "            activation=None,#激活函数\n",
        "            kernel_initializer=tf.zeros_initializer(),#初始化权重\n",
        "            bias_initializer=tf.zeros_initializer()#初始化偏置\n",
        "        )\n",
        "\n",
        "    def call(self, input):\n",
        "        output = self.dense(input)\n",
        "        return output\n",
        "\n",
        "epoch=100\n",
        "\n",
        "model = Linear()\n",
        "optimzer=tf.keras.optimizers.SGD(learning_rate=5e-4)#optimizer优化器  对权重和偏置做剃度下降\n",
        "for e in range(epoch):\n",
        "  with tf.GradientTape() as tape:\n",
        "    y_pred=model(X)\n",
        "    loss = tf.reduce_mean(tf.square(y_pred - y))\n",
        "  grads = tape.gradient(loss, model.variables)    # 使用 model.variables 这一属性直接获得模型中的所有变量\n",
        "  optimizer.apply_gradients(grads_and_vars=zip(grads, model.variables))\n",
        "print(model.variables)"
      ],
      "execution_count": 47,
      "outputs": [
        {
          "output_type": "stream",
          "text": [
            "[<tf.Variable 'linear_3/dense_5/kernel:0' shape=(3, 1) dtype=float32, numpy=\n",
            "array([[0.935125 ],\n",
            "       [1.2844828],\n",
            "       [1.6338407]], dtype=float32)>, <tf.Variable 'linear_3/dense_5/bias:0' shape=(1,) dtype=float32, numpy=array([0.3493583], dtype=float32)>]\n"
          ],
          "name": "stdout"
        }
      ]
    },
    {
      "cell_type": "code",
      "metadata": {
        "id": "nVXrRoDFOwB0"
      },
      "source": [
        "sasasas"
      ],
      "execution_count": null,
      "outputs": []
    }
  ]
}