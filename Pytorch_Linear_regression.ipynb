{
  "nbformat": 4,
  "nbformat_minor": 0,
  "metadata": {
    "colab": {
      "name": "Pytorch  Linear regression.ipynb",
      "provenance": [],
      "collapsed_sections": [],
      "authorship_tag": "ABX9TyOh6UwEcugEHThQyFFHzDtz",
      "include_colab_link": true
    },
    "kernelspec": {
      "name": "python3",
      "display_name": "Python 3"
    },
    "language_info": {
      "name": "python"
    }
  },
  "cells": [
    {
      "cell_type": "markdown",
      "metadata": {
        "id": "view-in-github",
        "colab_type": "text"
      },
      "source": [
        "<a href=\"https://colab.research.google.com/github/LoganLxb/Tensorflow2.0-and-Pytorch-learn/blob/main/Pytorch_Linear_regression.ipynb\" target=\"_parent\"><img src=\"https://colab.research.google.com/assets/colab-badge.svg\" alt=\"Open In Colab\"/></a>"
      ]
    },
    {
      "cell_type": "code",
      "metadata": {
        "id": "CW_QF-XtXckE"
      },
      "source": [
        "import numpy as np\n",
        "import torch.nn as nn"
      ],
      "execution_count": 62,
      "outputs": []
    },
    {
      "cell_type": "code",
      "metadata": {
        "colab": {
          "base_uri": "https://localhost:8080/"
        },
        "id": "eFO90m3xY96b",
        "outputId": "ccc1674b-d93b-45e2-d33a-9239c4a1b7fa"
      },
      "source": [
        "#构造x数据\n",
        "x_values=[i for i in range(11)]\n",
        "x_train=np.array(x_valus,dtype=np.float32)\n",
        "x_train=x_train.reshape(-1,1)\n",
        "x_train.shape"
      ],
      "execution_count": 63,
      "outputs": [
        {
          "output_type": "execute_result",
          "data": {
            "text/plain": [
              "(11, 1)"
            ]
          },
          "metadata": {
            "tags": []
          },
          "execution_count": 63
        }
      ]
    },
    {
      "cell_type": "code",
      "metadata": {
        "colab": {
          "base_uri": "https://localhost:8080/"
        },
        "id": "bY2rv6IWaSP5",
        "outputId": "526b4cb9-ad3a-4af3-aec5-4021f2ba19b6"
      },
      "source": [
        "#构造y数据\n",
        "y_valus=[2*i+1 for i in x_values]\n",
        "print(y_valus)\n",
        "y_train=np.array(y_valus,dtype=np.float32)\n",
        "y_train=y_train.reshape(-1,1)\n",
        "y_train.shape"
      ],
      "execution_count": 64,
      "outputs": [
        {
          "output_type": "stream",
          "text": [
            "[1, 3, 5, 7, 9, 11, 13, 15, 17, 19, 21]\n"
          ],
          "name": "stdout"
        },
        {
          "output_type": "execute_result",
          "data": {
            "text/plain": [
              "(11, 1)"
            ]
          },
          "metadata": {
            "tags": []
          },
          "execution_count": 64
        }
      ]
    },
    {
      "cell_type": "code",
      "metadata": {
        "id": "lVzm-o5fbGim"
      },
      "source": [
        "class Net(nn.Module):\n",
        "  def __init__(self,input_array,output_array):\n",
        "    super(Net,self).__init__()\n",
        "    self.linear=nn.Linear(input_array,output_array)\n",
        "  def forward(self,x):\n",
        "    out=self.linear(x)\n",
        "    return out"
      ],
      "execution_count": 65,
      "outputs": []
    },
    {
      "cell_type": "code",
      "metadata": {
        "id": "XLxzpvuOdj05"
      },
      "source": [
        "input_array=1\n",
        "output_array=1\n",
        "model=Net(input_array,output_array)"
      ],
      "execution_count": 66,
      "outputs": []
    },
    {
      "cell_type": "code",
      "metadata": {
        "id": "CuUuWgQbeODv"
      },
      "source": [
        "#制定参数和损失函数\n",
        "epochs=1000\n",
        "learning_rate=0.01\n",
        "optimizer=torch.optim.SGD(model.parameters(),lr=learning_rate)\n",
        "ls=nn.MSELoss()"
      ],
      "execution_count": 69,
      "outputs": []
    },
    {
      "cell_type": "code",
      "metadata": {
        "colab": {
          "base_uri": "https://localhost:8080/"
        },
        "id": "8-HDXxwGgN46",
        "outputId": "76f116fd-c894-4fa0-9efd-4a3fe9074ff7"
      },
      "source": [
        "#训练\n",
        "for epoch in range(epochs):\n",
        "  epoch+=1\n",
        "  #数据转换成tensor\n",
        "  inputs=torch.from_numpy(x_train)\n",
        "  labels=torch.from_numpy(y_train)\n",
        "  #剃度归零\n",
        "  optimizer.zero_grad()\n",
        "  #向前传播\n",
        "  outputs=model(inputs)\n",
        "  #损失计算\n",
        "  loss=ls(outputs,labels)\n",
        "  #向后传播\n",
        "  loss.backward()\n",
        "  #更新权重参数\n",
        "  optimizer.step()\n",
        "  if epoch%50 ==0:\n",
        "    print('epoch:{},loss:{}',epoch,loss.item())"
      ],
      "execution_count": 70,
      "outputs": [
        {
          "output_type": "stream",
          "text": [
            "epoch:{},loss:{} 50 0.37082692980766296\n",
            "epoch:{},loss:{} 100 0.21150608360767365\n",
            "epoch:{},loss:{} 150 0.1206350028514862\n",
            "epoch:{},loss:{} 200 0.06880566477775574\n",
            "epoch:{},loss:{} 250 0.0392441600561142\n",
            "epoch:{},loss:{} 300 0.022383423522114754\n",
            "epoch:{},loss:{} 350 0.012766644358634949\n",
            "epoch:{},loss:{} 400 0.007281624246388674\n",
            "epoch:{},loss:{} 450 0.004153155721724033\n",
            "epoch:{},loss:{} 500 0.0023687793873250484\n",
            "epoch:{},loss:{} 550 0.0013510769931599498\n",
            "epoch:{},loss:{} 600 0.0007706066244281828\n",
            "epoch:{},loss:{} 650 0.00043951038969680667\n",
            "epoch:{},loss:{} 700 0.00025067466776818037\n",
            "epoch:{},loss:{} 750 0.0001429823023499921\n",
            "epoch:{},loss:{} 800 8.154875104082748e-05\n",
            "epoch:{},loss:{} 850 4.6512228436768055e-05\n",
            "epoch:{},loss:{} 900 2.652895091159735e-05\n",
            "epoch:{},loss:{} 950 1.5131633517739829e-05\n",
            "epoch:{},loss:{} 1000 8.631215678178705e-06\n"
          ],
          "name": "stdout"
        }
      ]
    },
    {
      "cell_type": "code",
      "metadata": {
        "colab": {
          "base_uri": "https://localhost:8080/"
        },
        "id": "4I2x01BumPWC",
        "outputId": "f5121bff-323a-48e0-c257-072ae6436206"
      },
      "source": [
        "#预测\n",
        "pre=model(torch.from_numpy(x_train).requires_grad_()).data.numpy()\n",
        "pre"
      ],
      "execution_count": 72,
      "outputs": [
        {
          "output_type": "execute_result",
          "data": {
            "text/plain": [
              "array([[ 0.99453515],\n",
              "       [ 2.9953222 ],\n",
              "       [ 4.996109  ],\n",
              "       [ 6.9968963 ],\n",
              "       [ 8.997684  ],\n",
              "       [10.99847   ],\n",
              "       [12.999258  ],\n",
              "       [15.000045  ],\n",
              "       [17.000832  ],\n",
              "       [19.00162   ],\n",
              "       [21.002405  ]], dtype=float32)"
            ]
          },
          "metadata": {
            "tags": []
          },
          "execution_count": 72
        }
      ]
    },
    {
      "cell_type": "code",
      "metadata": {
        "id": "gRB-Ouium-vO"
      },
      "source": [
        "#保存模型\n",
        "torch.save(model.state_dict(),'model.pkl')"
      ],
      "execution_count": 73,
      "outputs": []
    },
    {
      "cell_type": "code",
      "metadata": {
        "colab": {
          "base_uri": "https://localhost:8080/"
        },
        "id": "GPPhktCKnRpd",
        "outputId": "f54830f2-91b0-4e41-b10e-1653c335553d"
      },
      "source": [
        "model.load_state_dict(torch.load('model.pkl'))"
      ],
      "execution_count": 74,
      "outputs": [
        {
          "output_type": "execute_result",
          "data": {
            "text/plain": [
              "<All keys matched successfully>"
            ]
          },
          "metadata": {
            "tags": []
          },
          "execution_count": 74
        }
      ]
    }
  ]
}